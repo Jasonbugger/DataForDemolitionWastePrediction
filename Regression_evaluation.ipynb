{
 "cells": [
  {
   "cell_type": "code",
   "execution_count": 1,
   "metadata": {},
   "outputs": [],
   "source": [
    "import pandas as pd\n",
    "import numpy as np\n",
    "from matplotlib import pyplot as plt\n",
    "import math"
   ]
  },
  {
   "cell_type": "code",
   "execution_count": 2,
   "metadata": {},
   "outputs": [],
   "source": [
    "# df = pd.read_excel(\"final_samples_removed_outliter.xlsx\", sheet_name=\"Sheet1\")\n",
    "df = pd.read_excel(\"final_result.xlsx\", sheet_name=\"Sheet1\")"
   ]
  },
  {
   "cell_type": "code",
   "execution_count": 3,
   "metadata": {},
   "outputs": [],
   "source": [
    "df.columns = ['index', 'custom_id', 'res',\n",
    "              'id_x', 'room_type', 'pred_wall',\n",
    "              'pred_ceiling', 'pred_floor', 'area', 'ceiling_thick', 'wall_thick', 'floor_thick', 'stur_length', 'tiny_length', 'wall_stru', \n",
    "              'wall_fur', '_', '_', 'ceiling_fur', 'ceiling_stru', 'floor_fur', 'total_pred', 'Truth', '_', '_', '_',\n",
    "              'GFA1', 'GFA2', 'GFA3', 'GFA_']"
   ]
  },
  {
   "cell_type": "code",
   "execution_count": 4,
   "metadata": {},
   "outputs": [],
   "source": [
    "from sklearn.metrics import mean_squared_error, r2_score, mean_absolute_error, mean_absolute_percentage_error"
   ]
  },
  {
   "cell_type": "code",
   "execution_count": 5,
   "metadata": {},
   "outputs": [],
   "source": [
    "df['GFA4'] = df['area'] * 0.1388"
   ]
  },
  {
   "cell_type": "code",
   "execution_count": 6,
   "metadata": {},
   "outputs": [
    {
     "name": "stdout",
     "output_type": "stream",
     "text": [
      "MAE\n",
      "total_pred(our method) 1.874389845721299\n",
      "GFA1(0.2100) 8.219757923232324\n",
      "GFA2 9.856072468686868\n",
      "GFA3 10.028316105050504\n",
      "GFA4(0.1388) 9.241736832323234\n",
      "MAPE\n",
      "total_pred(our method) 0.1784850641594075\n",
      "GFA1(0.2100) 0.7411548571808297\n",
      "GFA2 0.8816707918540935\n",
      "GFA3 0.8964619428723319\n",
      "GFA4(0.1388) 0.8289156865557102\n",
      "RMSE\n",
      "total_pred(our method) 2.87955270868924\n",
      "GFA1(0.2100) 8.745705650490926\n",
      "GFA4 9.852845092540466\n",
      "R2\n",
      "total_pred(our method) 0.5521631808613296\n",
      "GFA1(0.2100) -3.131040420610012\n",
      "GFA4(0.1388) -4.243159158967934\n"
     ]
    }
   ],
   "source": [
    "# MAE\n",
    "print(\"MAE\")\n",
    "print(\"total_pred(our method)\", mean_absolute_error(df['Truth'], df['total_pred']))\n",
    "print(\"GFA1(0.2100)\", mean_absolute_error(df['Truth'], df['GFA1']))\n",
    "print(\"GFA2\", mean_absolute_error(df['Truth'], df['GFA2']))\n",
    "print(\"GFA3\", mean_absolute_error(df['Truth'], df['GFA3']))\n",
    "print(\"GFA4(0.1388)\", mean_absolute_error(df['Truth'], df['GFA4']))\n",
    "# MAPE\n",
    "print(\"MAPE\")\n",
    "print(\"total_pred(our method)\", mean_absolute_percentage_error(df['Truth'], df['total_pred']))\n",
    "print(\"GFA1(0.2100)\", mean_absolute_percentage_error(df['Truth'], df['GFA1']))\n",
    "print(\"GFA2\", mean_absolute_percentage_error(df['Truth'], df['GFA2']))\n",
    "print(\"GFA3\", mean_absolute_percentage_error(df['Truth'], df['GFA3']))\n",
    "print(\"GFA4(0.1388)\", mean_absolute_percentage_error(df['Truth'], df['GFA4']))\n",
    "# MSE\n",
    "print(\"RMSE\")\n",
    "print(\"total_pred(our method)\", math.sqrt(mean_squared_error(df['Truth'], df['total_pred'])))\n",
    "print(\"GFA1(0.2100)\", math.sqrt(mean_squared_error(df['Truth'], df['GFA1'])))\n",
    "# print(\"GFA2\", math.sqrt(mean_squared_error(df['Truth'], df['GFA2'])))\n",
    "# print(\"GFA3\", math.sqrt(mean_squared_error(df['Truth'], df['GFA3'])))\n",
    "print(\"GFA4\", math.sqrt(mean_squared_error(df['Truth'], df['GFA4'])))\n",
    "# R2\n",
    "print(\"R2\")\n",
    "print(\"total_pred(our method)\", r2_score(df['Truth'], df['total_pred']))\n",
    "print(\"GFA1(0.2100)\", r2_score(df['Truth'], df['GFA1']))\n",
    "# print(\"GFA2\", r2_score(df['Truth'], df['GFA2']))\n",
    "# print(\"GFA3\", r2_score(df['Truth'], df['GFA3']))\n",
    "print(\"GFA4(0.1388)\", r2_score(df['Truth'], df['GFA4']))"
   ]
  },
  {
   "cell_type": "code",
   "execution_count": null,
   "metadata": {},
   "outputs": [],
   "source": []
  }
 ],
 "metadata": {
  "kernelspec": {
   "display_name": "base",
   "language": "python",
   "name": "python3"
  },
  "language_info": {
   "codemirror_mode": {
    "name": "ipython",
    "version": 3
   },
   "file_extension": ".py",
   "mimetype": "text/x-python",
   "name": "python",
   "nbconvert_exporter": "python",
   "pygments_lexer": "ipython3",
   "version": "3.12.7"
  }
 },
 "nbformat": 4,
 "nbformat_minor": 4
}
